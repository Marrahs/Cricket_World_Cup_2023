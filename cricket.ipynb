{
 "cells": [
  {
   "cell_type": "code",
   "execution_count": 2,
   "id": "1fdc5b1a-8681-45f0-b9d9-99b4a123053a",
   "metadata": {},
   "outputs": [],
   "source": [
    "#loading libraries\n",
    "import pandas as pd\n",
    "import numpy as np\n",
    "import matplotlib.pyplot as plt\n",
    "import seaborn as sns"
   ]
  },
  {
   "cell_type": "code",
   "execution_count": 3,
   "id": "93f4d72f-ba82-4d81-968d-ba83bd57402a",
   "metadata": {},
   "outputs": [],
   "source": [
    "#uploadind data\n",
    "cwc_df = pd.read_csv(\"CWC2023.csv\")"
   ]
  },
  {
   "cell_type": "code",
   "execution_count": 4,
   "id": "57533054-5c8c-4c51-9fe5-264b2b9223b0",
   "metadata": {},
   "outputs": [
    {
     "data": {
      "text/html": [
       "<div>\n",
       "<style scoped>\n",
       "    .dataframe tbody tr th:only-of-type {\n",
       "        vertical-align: middle;\n",
       "    }\n",
       "\n",
       "    .dataframe tbody tr th {\n",
       "        vertical-align: top;\n",
       "    }\n",
       "\n",
       "    .dataframe thead th {\n",
       "        text-align: right;\n",
       "    }\n",
       "</style>\n",
       "<table border=\"1\" class=\"dataframe\">\n",
       "  <thead>\n",
       "    <tr style=\"text-align: right;\">\n",
       "      <th></th>\n",
       "      <th>Match ID</th>\n",
       "      <th>Match Date</th>\n",
       "      <th>Match Time</th>\n",
       "      <th>City</th>\n",
       "      <th>Stadium</th>\n",
       "      <th>Team A</th>\n",
       "      <th>Team B</th>\n",
       "      <th>Toss Winner</th>\n",
       "      <th>Toss Decision</th>\n",
       "      <th>Score A</th>\n",
       "      <th>...</th>\n",
       "      <th>No Balls B</th>\n",
       "      <th>Penalty B</th>\n",
       "      <th>Extras B</th>\n",
       "      <th>Wining Team</th>\n",
       "      <th>Margin</th>\n",
       "      <th>Man of the Match</th>\n",
       "      <th>Umpire 1</th>\n",
       "      <th>Umpire 2</th>\n",
       "      <th>TV Umpire</th>\n",
       "      <th>Match Refree</th>\n",
       "    </tr>\n",
       "  </thead>\n",
       "  <tbody>\n",
       "    <tr>\n",
       "      <th>0</th>\n",
       "      <td>1</td>\n",
       "      <td>05-10-2023</td>\n",
       "      <td>2:00 PM</td>\n",
       "      <td>Ahmedabad</td>\n",
       "      <td>Narendra Modi Stadium</td>\n",
       "      <td>England</td>\n",
       "      <td>NewZealand</td>\n",
       "      <td>NewZealand</td>\n",
       "      <td>Field</td>\n",
       "      <td>282</td>\n",
       "      <td>...</td>\n",
       "      <td>0</td>\n",
       "      <td>0</td>\n",
       "      <td>6</td>\n",
       "      <td>NewZealand</td>\n",
       "      <td>9 Wickets</td>\n",
       "      <td>Rachin Ravindra</td>\n",
       "      <td>Kumar Dharmasena</td>\n",
       "      <td>Nitin Menon</td>\n",
       "      <td>Paul Wilson</td>\n",
       "      <td>Javagal Srinath</td>\n",
       "    </tr>\n",
       "    <tr>\n",
       "      <th>1</th>\n",
       "      <td>2</td>\n",
       "      <td>06-10-2023</td>\n",
       "      <td>2:00 PM</td>\n",
       "      <td>Hyderabad</td>\n",
       "      <td>Eden Gardens</td>\n",
       "      <td>Pakistan</td>\n",
       "      <td>Netherlands</td>\n",
       "      <td>Netherlands</td>\n",
       "      <td>Field</td>\n",
       "      <td>286</td>\n",
       "      <td>...</td>\n",
       "      <td>1</td>\n",
       "      <td>0</td>\n",
       "      <td>9</td>\n",
       "      <td>Pakistan</td>\n",
       "      <td>81 Runs</td>\n",
       "      <td>Saud Shakeel</td>\n",
       "      <td>Adrian Holdstock</td>\n",
       "      <td>Chris Brown</td>\n",
       "      <td>Rod Tucker</td>\n",
       "      <td>Jeff Crowe</td>\n",
       "    </tr>\n",
       "    <tr>\n",
       "      <th>2</th>\n",
       "      <td>3</td>\n",
       "      <td>07-10-2023</td>\n",
       "      <td>2:00 PM</td>\n",
       "      <td>Dharamshala</td>\n",
       "      <td>HPCA Stadium</td>\n",
       "      <td>Afghanistan</td>\n",
       "      <td>Bangladesh</td>\n",
       "      <td>Bangladesh</td>\n",
       "      <td>Field</td>\n",
       "      <td>156</td>\n",
       "      <td>...</td>\n",
       "      <td>0</td>\n",
       "      <td>0</td>\n",
       "      <td>8</td>\n",
       "      <td>Bangladesh</td>\n",
       "      <td>6 Wickets</td>\n",
       "      <td>Mehidy Hasan Miraz</td>\n",
       "      <td>Joel Wilson</td>\n",
       "      <td>Kumar Dharmasena</td>\n",
       "      <td>Ahsan Raza</td>\n",
       "      <td>Andy Pycroft</td>\n",
       "    </tr>\n",
       "    <tr>\n",
       "      <th>3</th>\n",
       "      <td>4</td>\n",
       "      <td>07-10-2023</td>\n",
       "      <td>2:00 PM</td>\n",
       "      <td>Delhi</td>\n",
       "      <td>Arun Jaitley Stadium</td>\n",
       "      <td>South Africa</td>\n",
       "      <td>Sri Lanka</td>\n",
       "      <td>Sri Lanka</td>\n",
       "      <td>Field</td>\n",
       "      <td>428</td>\n",
       "      <td>...</td>\n",
       "      <td>1</td>\n",
       "      <td>0</td>\n",
       "      <td>23</td>\n",
       "      <td>South Africa</td>\n",
       "      <td>102 Runs</td>\n",
       "      <td>Aiden Markram</td>\n",
       "      <td>Richard Illingworth</td>\n",
       "      <td>Sharfuddoula</td>\n",
       "      <td>Michael Gough</td>\n",
       "      <td>Javagal Srinath</td>\n",
       "    </tr>\n",
       "    <tr>\n",
       "      <th>4</th>\n",
       "      <td>5</td>\n",
       "      <td>08-10-2023</td>\n",
       "      <td>2:00 PM</td>\n",
       "      <td>Chennai</td>\n",
       "      <td>M. A. Chidambaram Stadium</td>\n",
       "      <td>Australia</td>\n",
       "      <td>India</td>\n",
       "      <td>Australia</td>\n",
       "      <td>Bat</td>\n",
       "      <td>199</td>\n",
       "      <td>...</td>\n",
       "      <td>0</td>\n",
       "      <td>0</td>\n",
       "      <td>12</td>\n",
       "      <td>India</td>\n",
       "      <td>6 wickets</td>\n",
       "      <td>KL Rahul</td>\n",
       "      <td>Chris Gaffaney</td>\n",
       "      <td>Richard Kettleborough</td>\n",
       "      <td>Chris Brown</td>\n",
       "      <td>Richie Richardson</td>\n",
       "    </tr>\n",
       "  </tbody>\n",
       "</table>\n",
       "<p>5 rows × 44 columns</p>\n",
       "</div>"
      ],
      "text/plain": [
       "   Match ID  Match Date Match Time         City                    Stadium  \\\n",
       "0         1  05-10-2023    2:00 PM    Ahmedabad      Narendra Modi Stadium   \n",
       "1         2  06-10-2023    2:00 PM    Hyderabad               Eden Gardens   \n",
       "2         3  07-10-2023    2:00 PM  Dharamshala               HPCA Stadium   \n",
       "3         4  07-10-2023    2:00 PM        Delhi       Arun Jaitley Stadium   \n",
       "4         5  08-10-2023    2:00 PM      Chennai  M. A. Chidambaram Stadium   \n",
       "\n",
       "         Team A       Team B  Toss Winner Toss Decision  Score A  ...  \\\n",
       "0       England   NewZealand   NewZealand         Field      282  ...   \n",
       "1      Pakistan  Netherlands  Netherlands         Field      286  ...   \n",
       "2   Afghanistan   Bangladesh   Bangladesh         Field      156  ...   \n",
       "3  South Africa    Sri Lanka    Sri Lanka         Field      428  ...   \n",
       "4     Australia        India    Australia           Bat      199  ...   \n",
       "\n",
       "   No Balls B  Penalty B  Extras B   Wining Team     Margin  \\\n",
       "0           0          0         6    NewZealand  9 Wickets   \n",
       "1           1          0         9      Pakistan    81 Runs   \n",
       "2           0          0         8    Bangladesh  6 Wickets   \n",
       "3           1          0        23  South Africa   102 Runs   \n",
       "4           0          0        12         India  6 wickets   \n",
       "\n",
       "     Man of the Match             Umpire 1               Umpire 2  \\\n",
       "0     Rachin Ravindra     Kumar Dharmasena            Nitin Menon   \n",
       "1        Saud Shakeel     Adrian Holdstock            Chris Brown   \n",
       "2  Mehidy Hasan Miraz          Joel Wilson       Kumar Dharmasena   \n",
       "3       Aiden Markram  Richard Illingworth           Sharfuddoula   \n",
       "4            KL Rahul       Chris Gaffaney  Richard Kettleborough   \n",
       "\n",
       "       TV Umpire       Match Refree  \n",
       "0    Paul Wilson    Javagal Srinath  \n",
       "1     Rod Tucker         Jeff Crowe  \n",
       "2     Ahsan Raza       Andy Pycroft  \n",
       "3  Michael Gough    Javagal Srinath  \n",
       "4    Chris Brown  Richie Richardson  \n",
       "\n",
       "[5 rows x 44 columns]"
      ]
     },
     "execution_count": 4,
     "metadata": {},
     "output_type": "execute_result"
    }
   ],
   "source": [
    "#inspecting\n",
    "cwc_df.head()"
   ]
  },
  {
   "cell_type": "code",
   "execution_count": 5,
   "id": "ab6c08c9-0ee4-4e5f-a1cd-ded69509ae55",
   "metadata": {},
   "outputs": [
    {
     "data": {
      "text/plain": [
       "(48, 44)"
      ]
     },
     "execution_count": 5,
     "metadata": {},
     "output_type": "execute_result"
    }
   ],
   "source": [
    "cwc_df.shape"
   ]
  },
  {
   "cell_type": "code",
   "execution_count": 6,
   "id": "01f94b35-2e26-403f-9835-3e5a14208989",
   "metadata": {
    "scrolled": true
   },
   "outputs": [
    {
     "data": {
      "text/plain": [
       "Match ID            0\n",
       "Match Date          0\n",
       "Match Time          0\n",
       "City                0\n",
       "Stadium             0\n",
       "Team A              0\n",
       "Team B              0\n",
       "Toss Winner         0\n",
       "Toss Decision       0\n",
       "Score A             0\n",
       "Wickets A           0\n",
       "Overs Played A      0\n",
       "Maiden Overs A      0\n",
       "4s A                0\n",
       "6s A                0\n",
       "Boundaries A        0\n",
       "Runrate A           0\n",
       "Leg Byes A          0\n",
       "Byes A              0\n",
       "Wides A             0\n",
       "No Balls A          0\n",
       "Penalty A           0\n",
       "Extras A            0\n",
       "Score B             0\n",
       "Wickets B           0\n",
       "Overs Played B      0\n",
       "Maiden Overs B      0\n",
       "4s B                0\n",
       "6s B                0\n",
       "Boundaries B        0\n",
       "Runrate B           0\n",
       "Leg Byes B          0\n",
       "Byes B              0\n",
       "Wides B             0\n",
       "No Balls B          0\n",
       "Penalty B           0\n",
       "Extras B            0\n",
       "Wining Team         0\n",
       "Margin              0\n",
       "Man of the Match    0\n",
       "Umpire 1            0\n",
       "Umpire 2            0\n",
       "TV Umpire           0\n",
       "Match Refree        0\n",
       "dtype: int64"
      ]
     },
     "execution_count": 6,
     "metadata": {},
     "output_type": "execute_result"
    }
   ],
   "source": [
    "#data cleaning\n",
    "cwc_df.isnull().sum()"
   ]
  },
  {
   "cell_type": "code",
   "execution_count": 7,
   "id": "53a81d00-fb48-46b7-bfbc-da3cdfe38270",
   "metadata": {
    "scrolled": true
   },
   "outputs": [
    {
     "name": "stdout",
     "output_type": "stream",
     "text": [
      "<class 'pandas.core.frame.DataFrame'>\n",
      "RangeIndex: 48 entries, 0 to 47\n",
      "Data columns (total 44 columns):\n",
      " #   Column            Non-Null Count  Dtype  \n",
      "---  ------            --------------  -----  \n",
      " 0   Match ID          48 non-null     int64  \n",
      " 1   Match Date        48 non-null     object \n",
      " 2   Match Time        48 non-null     object \n",
      " 3   City              48 non-null     object \n",
      " 4   Stadium           48 non-null     object \n",
      " 5   Team A            48 non-null     object \n",
      " 6   Team B            48 non-null     object \n",
      " 7   Toss Winner       48 non-null     object \n",
      " 8   Toss Decision     48 non-null     object \n",
      " 9   Score A           48 non-null     int64  \n",
      " 10  Wickets A         48 non-null     int64  \n",
      " 11  Overs Played A    48 non-null     float64\n",
      " 12  Maiden Overs A    48 non-null     int64  \n",
      " 13  4s A              48 non-null     int64  \n",
      " 14  6s A              48 non-null     int64  \n",
      " 15  Boundaries A      48 non-null     int64  \n",
      " 16  Runrate A         48 non-null     float64\n",
      " 17  Leg Byes A        48 non-null     int64  \n",
      " 18  Byes A            48 non-null     int64  \n",
      " 19  Wides A           48 non-null     int64  \n",
      " 20  No Balls A        48 non-null     int64  \n",
      " 21  Penalty A         48 non-null     int64  \n",
      " 22  Extras A          48 non-null     int64  \n",
      " 23  Score B           48 non-null     int64  \n",
      " 24  Wickets B         48 non-null     int64  \n",
      " 25  Overs Played B    48 non-null     float64\n",
      " 26  Maiden Overs B    48 non-null     int64  \n",
      " 27  4s B              48 non-null     int64  \n",
      " 28  6s B              48 non-null     int64  \n",
      " 29  Boundaries B      48 non-null     int64  \n",
      " 30  Runrate B         48 non-null     object \n",
      " 31  Leg Byes B        48 non-null     int64  \n",
      " 32  Byes B            48 non-null     int64  \n",
      " 33  Wides B           48 non-null     int64  \n",
      " 34  No Balls B        48 non-null     int64  \n",
      " 35  Penalty B         48 non-null     int64  \n",
      " 36  Extras B          48 non-null     int64  \n",
      " 37  Wining Team       48 non-null     object \n",
      " 38  Margin            48 non-null     object \n",
      " 39  Man of the Match  48 non-null     object \n",
      " 40  Umpire 1          48 non-null     object \n",
      " 41  Umpire 2          48 non-null     object \n",
      " 42  TV Umpire         48 non-null     object \n",
      " 43  Match Refree      48 non-null     object \n",
      "dtypes: float64(3), int64(25), object(16)\n",
      "memory usage: 16.6+ KB\n"
     ]
    }
   ],
   "source": [
    "cwc_df.info()"
   ]
  },
  {
   "cell_type": "code",
   "execution_count": 8,
   "id": "dd7aa19a-8d35-45ae-a061-a537094a1b3e",
   "metadata": {},
   "outputs": [
    {
     "name": "stdout",
     "output_type": "stream",
     "text": [
      "['England' 'Pakistan' 'Afghanistan' 'South Africa' 'Australia'\n",
      " 'NewZealand' 'Sri Lanka' 'Bangladesh' 'Netherlands' 'India']\n"
     ]
    }
   ],
   "source": [
    "#finding win rates\n",
    "all_teams = pd.concat([cwc_df['Team A'], cwc_df['Team B']]).unique()\n",
    "print(all_teams)"
   ]
  },
  {
   "cell_type": "code",
   "execution_count": 9,
   "id": "65aa3938-19ef-45fd-ae19-f103f5a72bc9",
   "metadata": {},
   "outputs": [
    {
     "name": "stdout",
     "output_type": "stream",
     "text": [
      "{'England': 9, 'Pakistan': 9, 'Afghanistan': 9, 'South Africa': 10, 'Australia': 11, 'NewZealand': 10, 'Sri Lanka': 9, 'Bangladesh': 9, 'Netherlands': 9, 'India': 11}\n"
     ]
    }
   ],
   "source": [
    "matches_played = {}\n",
    "for team in all_teams:\n",
    "    count = len(cwc_df[cwc_df['Team A'] == team]) + len(cwc_df[cwc_df['Team B'] == team])\n",
    "    matches_played[team] = count\n",
    "print(matches_played)"
   ]
  },
  {
   "cell_type": "code",
   "execution_count": 10,
   "id": "068ca5a5-8d3e-4bb4-ac0e-5b223244ca1c",
   "metadata": {},
   "outputs": [
    {
     "name": "stdout",
     "output_type": "stream",
     "text": [
      "Wining Team\n",
      "India           10\n",
      "Australia        9\n",
      "South Africa     7\n",
      "NewZealand       5\n",
      "Pakistan         4\n",
      "Afghanistan      4\n",
      "England          3\n",
      "Bangladesh       2\n",
      "Netherlands      2\n",
      "Sri Lanka        2\n",
      "Name: count, dtype: int64\n"
     ]
    }
   ],
   "source": [
    "matches_won = cwc_df['Wining Team'].value_counts()\n",
    "print(matches_won)"
   ]
  },
  {
   "cell_type": "code",
   "execution_count": 11,
   "id": "03340417-d708-465e-89fb-72724798bccc",
   "metadata": {},
   "outputs": [],
   "source": [
    "win_rates = {}\n",
    "for team in all_teams:\n",
    "    win_rates[team] = (matches_won[team] / matches_played[team]) * 100"
   ]
  },
  {
   "cell_type": "code",
   "execution_count": 28,
   "id": "6ad26f5a-86dd-4d54-adfb-4a99abd3aba2",
   "metadata": {},
   "outputs": [
    {
     "data": {
      "image/png": "[encoded data removed]",
      "text/plain": [
       "<Figure size 640x480 with 1 Axes>"
      ]
     },
     "metadata": {},
     "output_type": "display_data"
    }
   ],
   "source": [
    "sns.barplot(x=list(win_rates.keys()), y=list(win_rates.values()), color='red')\n",
    "plt.title('CWC 2023 Win Rates')\n",
    "plt.xticks(rotation=45)\n",
    "plt.savefig('Win_Rate', dpi=300, bbox_inches= 'tight', transparent=False)\n",
    "plt.show()"
   ]
  },
  {
   "cell_type": "code",
   "execution_count": 13,
   "id": "3911a7eb-81e5-454d-a4c4-dcdb19c68d83",
   "metadata": {
    "scrolled": true
   },
   "outputs": [
    {
     "data": {
      "text/plain": [
       "Man of the Match\n",
       "Mohammed Shami            3\n",
       "Travis Head               3\n",
       "Adam Zampa                2\n",
       "Rohit Sharma              2\n",
       "Virat Kohli               2\n",
       "Rassie van der Dussen     2\n",
       "Fakhar Zaman              2\n",
       "Glenn Maxwell             2\n",
       "Quinton de Kock           2\n",
       "Rachin Ravindra           1\n",
       "Aiden Markram             1\n",
       "Mehidy Hasan Miraz        1\n",
       "Saud Shakeel              1\n",
       "KL Rahul                  1\n",
       "Jasprit Bumrah            1\n",
       "Lockie Ferguson           1\n",
       "Scott Edwards             1\n",
       "Mujeeb Ur Rahman          1\n",
       "Mohammad Rizwan           1\n",
       "Dawid Malan               1\n",
       "Mitchell Santner          1\n",
       "Heinrich Klaasen          1\n",
       "Sadeera Samarawickrama    1\n",
       "David Warner              1\n",
       "Glenn Phillips            1\n",
       "Tabraiz Shamsi            1\n",
       "Lahiru Kumara             1\n",
       "Paul van Meekeren         1\n",
       "Ibrahim Zadran            1\n",
       "Fazalhaq Farooqi          1\n",
       "Mohammad Nabi             1\n",
       "Shakib Al Hasan           1\n",
       "Ben Stokes                1\n",
       "Trent Boult               1\n",
       "Mitchell Marsh            1\n",
       "David Willey              1\n",
       "Shreyas Iyer              1\n",
       "Name: count, dtype: int64"
      ]
     },
     "execution_count": 13,
     "metadata": {},
     "output_type": "execute_result"
    }
   ],
   "source": [
    "#top run scorers and strike rate by batting\n",
    "highest_scorer = cwc_df['Man of the Match'].value_counts()\n",
    "highest_scorer"
   ]
  },
  {
   "cell_type": "code",
   "execution_count": 14,
   "id": "d99585d2-bed0-431e-821f-68ede545fcb5",
   "metadata": {},
   "outputs": [
    {
     "data": {
      "text/html": [
       "<div>\n",
       "<style scoped>\n",
       "    .dataframe tbody tr th:only-of-type {\n",
       "        vertical-align: middle;\n",
       "    }\n",
       "\n",
       "    .dataframe tbody tr th {\n",
       "        vertical-align: top;\n",
       "    }\n",
       "\n",
       "    .dataframe thead th {\n",
       "        text-align: right;\n",
       "    }\n",
       "</style>\n",
       "<table border=\"1\" class=\"dataframe\">\n",
       "  <thead>\n",
       "    <tr style=\"text-align: right;\">\n",
       "      <th>Wining Team</th>\n",
       "      <th>Afghanistan</th>\n",
       "      <th>Australia</th>\n",
       "      <th>Bangladesh</th>\n",
       "      <th>England</th>\n",
       "      <th>India</th>\n",
       "      <th>Netherlands</th>\n",
       "      <th>NewZealand</th>\n",
       "      <th>Pakistan</th>\n",
       "      <th>South Africa</th>\n",
       "      <th>Sri Lanka</th>\n",
       "    </tr>\n",
       "    <tr>\n",
       "      <th>Toss Winner</th>\n",
       "      <th></th>\n",
       "      <th></th>\n",
       "      <th></th>\n",
       "      <th></th>\n",
       "      <th></th>\n",
       "      <th></th>\n",
       "      <th></th>\n",
       "      <th></th>\n",
       "      <th></th>\n",
       "      <th></th>\n",
       "    </tr>\n",
       "  </thead>\n",
       "  <tbody>\n",
       "    <tr>\n",
       "      <th>Afghanistan</th>\n",
       "      <td>1</td>\n",
       "      <td>1</td>\n",
       "      <td>0</td>\n",
       "      <td>0</td>\n",
       "      <td>1</td>\n",
       "      <td>0</td>\n",
       "      <td>1</td>\n",
       "      <td>0</td>\n",
       "      <td>1</td>\n",
       "      <td>0</td>\n",
       "    </tr>\n",
       "    <tr>\n",
       "      <th>Australia</th>\n",
       "      <td>0</td>\n",
       "      <td>3</td>\n",
       "      <td>0</td>\n",
       "      <td>0</td>\n",
       "      <td>1</td>\n",
       "      <td>0</td>\n",
       "      <td>0</td>\n",
       "      <td>0</td>\n",
       "      <td>1</td>\n",
       "      <td>0</td>\n",
       "    </tr>\n",
       "    <tr>\n",
       "      <th>Bangladesh</th>\n",
       "      <td>0</td>\n",
       "      <td>0</td>\n",
       "      <td>2</td>\n",
       "      <td>1</td>\n",
       "      <td>1</td>\n",
       "      <td>0</td>\n",
       "      <td>0</td>\n",
       "      <td>1</td>\n",
       "      <td>0</td>\n",
       "      <td>0</td>\n",
       "    </tr>\n",
       "    <tr>\n",
       "      <th>England</th>\n",
       "      <td>1</td>\n",
       "      <td>1</td>\n",
       "      <td>0</td>\n",
       "      <td>2</td>\n",
       "      <td>1</td>\n",
       "      <td>0</td>\n",
       "      <td>0</td>\n",
       "      <td>0</td>\n",
       "      <td>1</td>\n",
       "      <td>1</td>\n",
       "    </tr>\n",
       "    <tr>\n",
       "      <th>India</th>\n",
       "      <td>0</td>\n",
       "      <td>0</td>\n",
       "      <td>0</td>\n",
       "      <td>0</td>\n",
       "      <td>5</td>\n",
       "      <td>0</td>\n",
       "      <td>0</td>\n",
       "      <td>0</td>\n",
       "      <td>0</td>\n",
       "      <td>0</td>\n",
       "    </tr>\n",
       "    <tr>\n",
       "      <th>Netherlands</th>\n",
       "      <td>1</td>\n",
       "      <td>0</td>\n",
       "      <td>0</td>\n",
       "      <td>0</td>\n",
       "      <td>0</td>\n",
       "      <td>1</td>\n",
       "      <td>1</td>\n",
       "      <td>1</td>\n",
       "      <td>0</td>\n",
       "      <td>1</td>\n",
       "    </tr>\n",
       "    <tr>\n",
       "      <th>NewZealand</th>\n",
       "      <td>0</td>\n",
       "      <td>1</td>\n",
       "      <td>0</td>\n",
       "      <td>0</td>\n",
       "      <td>0</td>\n",
       "      <td>0</td>\n",
       "      <td>3</td>\n",
       "      <td>0</td>\n",
       "      <td>1</td>\n",
       "      <td>0</td>\n",
       "    </tr>\n",
       "    <tr>\n",
       "      <th>Pakistan</th>\n",
       "      <td>1</td>\n",
       "      <td>1</td>\n",
       "      <td>0</td>\n",
       "      <td>0</td>\n",
       "      <td>0</td>\n",
       "      <td>0</td>\n",
       "      <td>0</td>\n",
       "      <td>1</td>\n",
       "      <td>1</td>\n",
       "      <td>0</td>\n",
       "    </tr>\n",
       "    <tr>\n",
       "      <th>South Africa</th>\n",
       "      <td>0</td>\n",
       "      <td>1</td>\n",
       "      <td>0</td>\n",
       "      <td>0</td>\n",
       "      <td>0</td>\n",
       "      <td>1</td>\n",
       "      <td>0</td>\n",
       "      <td>0</td>\n",
       "      <td>1</td>\n",
       "      <td>0</td>\n",
       "    </tr>\n",
       "    <tr>\n",
       "      <th>Sri Lanka</th>\n",
       "      <td>0</td>\n",
       "      <td>1</td>\n",
       "      <td>0</td>\n",
       "      <td>0</td>\n",
       "      <td>1</td>\n",
       "      <td>0</td>\n",
       "      <td>0</td>\n",
       "      <td>1</td>\n",
       "      <td>1</td>\n",
       "      <td>0</td>\n",
       "    </tr>\n",
       "  </tbody>\n",
       "</table>\n",
       "</div>"
      ],
      "text/plain": [
       "Wining Team   Afghanistan  Australia  Bangladesh  England  India  Netherlands  \\\n",
       "Toss Winner                                                                     \n",
       "Afghanistan             1          1           0        0      1            0   \n",
       "Australia               0          3           0        0      1            0   \n",
       "Bangladesh              0          0           2        1      1            0   \n",
       "England                 1          1           0        2      1            0   \n",
       "India                   0          0           0        0      5            0   \n",
       "Netherlands             1          0           0        0      0            1   \n",
       "NewZealand              0          1           0        0      0            0   \n",
       "Pakistan                1          1           0        0      0            0   \n",
       "South Africa            0          1           0        0      0            1   \n",
       "Sri Lanka               0          1           0        0      1            0   \n",
       "\n",
       "Wining Team   NewZealand  Pakistan  South Africa  Sri Lanka  \n",
       "Toss Winner                                                  \n",
       "Afghanistan            1         0             1          0  \n",
       "Australia              0         0             1          0  \n",
       "Bangladesh             0         1             0          0  \n",
       "England                0         0             1          1  \n",
       "India                  0         0             0          0  \n",
       "Netherlands            1         1             0          1  \n",
       "NewZealand             3         0             1          0  \n",
       "Pakistan               0         1             1          0  \n",
       "South Africa           0         0             1          0  \n",
       "Sri Lanka              0         1             1          0  "
      ]
     },
     "execution_count": 14,
     "metadata": {},
     "output_type": "execute_result"
    }
   ],
   "source": [
    "pd.crosstab(cwc_df['Toss Winner'], cwc_df['Wining Team'])"
   ]
  },
  {
   "cell_type": "code",
   "execution_count": 15,
   "id": "7f554748-a42e-4728-b932-9c9df6b2ad83",
   "metadata": {},
   "outputs": [],
   "source": [
    "toss_win_advantage = (cwc_df['Toss Winner'] == cwc_df['Wining Team']).mean() * 100"
   ]
  },
  {
   "cell_type": "code",
   "execution_count": 16,
   "id": "e1e879f2-422e-48ae-879b-d7f1cbc6ee3a",
   "metadata": {},
   "outputs": [],
   "source": [
    "avg_run_rates = cwc_df.groupby('Wining Team')['Runrate A'].mean().sort_values()"
   ]
  },
  {
   "cell_type": "code",
   "execution_count": 17,
   "id": "ff92ce18-eca1-43ef-ad45-941c21be2a93",
   "metadata": {},
   "outputs": [
    {
     "data": {
      "text/plain": [
       "Wining Team\n",
       "Netherlands     4.520000\n",
       "Bangladesh      4.900000\n",
       "Sri Lanka       4.975000\n",
       "NewZealand      5.280000\n",
       "Afghanistan     5.482500\n",
       "India           5.887000\n",
       "Australia       6.162222\n",
       "England         6.270000\n",
       "Pakistan        6.757500\n",
       "South Africa    6.885714\n",
       "Name: Runrate A, dtype: float64"
      ]
     },
     "execution_count": 17,
     "metadata": {},
     "output_type": "execute_result"
    }
   ],
   "source": [
    "avg_run_rates"
   ]
  },
  {
   "cell_type": "code",
   "execution_count": 18,
   "id": "adf8cbe2-9b5a-41d0-9d80-b59aede306a1",
   "metadata": {},
   "outputs": [],
   "source": [
    "#Does winning the toss increase winning chances?\n",
    "correct_predictions = (cwc_df[\"Toss Winner\"] == cwc_df[\"Wining Team\"]).sum()"
   ]
  },
  {
   "cell_type": "code",
   "execution_count": 19,
   "id": "e7990fe5-2b94-477c-819f-e91af0e282a5",
   "metadata": {},
   "outputs": [],
   "source": [
    "total_matches = len(cwc_df)"
   ]
  },
  {
   "cell_type": "code",
   "execution_count": 20,
   "id": "821b6964-4907-418a-8c6f-f862f6fd1bd3",
   "metadata": {},
   "outputs": [
    {
     "name": "stdout",
     "output_type": "stream",
     "text": [
      "39.58333333333333\n"
     ]
    }
   ],
   "source": [
    "win_percentage = (correct_predictions/total_matches) * 100\n",
    "print(win_percentage)"
   ]
  },
  {
   "cell_type": "code",
   "execution_count": 29,
   "id": "1418e27a-cec5-403b-9b93-cee399276905",
   "metadata": {},
   "outputs": [
    {
     "data": {
      "image/png": "[encoded data removed]",
      "text/plain": [
       "<Figure size 640x480 with 1 Axes>"
      ]
     },
     "metadata": {},
     "output_type": "display_data"
    }
   ],
   "source": [
    "plt.pie([win_percentage, 100-win_percentage],\n",
    "        labels=['Toss Winner Won', 'Toss winner Lost'] ,\n",
    "        autopct = '%1.1f%%')\n",
    "plt.savefig('Toss_Advantage', dpi=300, bbox_inches='tight')\n",
    "plt.title(\"Toss Advantage\")\n",
    "plt.show()"
   ]
  },
  {
   "cell_type": "code",
   "execution_count": 22,
   "id": "176f25e4-9bf2-4fca-ac7e-cca0943433fc",
   "metadata": {},
   "outputs": [],
   "source": [
    "#Runrates\n",
    "cwc_df['Runrate B'] = pd.to_numeric(cwc_df['Runrate B'], errors='coerce').astype(float)"
   ]
  },
  {
   "cell_type": "code",
   "execution_count": 23,
   "id": "30a1e30e-0d24-40f3-83d9-a444d574aac0",
   "metadata": {
    "scrolled": true
   },
   "outputs": [
    {
     "name": "stdout",
     "output_type": "stream",
     "text": [
      "<class 'pandas.core.frame.DataFrame'>\n",
      "RangeIndex: 48 entries, 0 to 47\n",
      "Data columns (total 44 columns):\n",
      " #   Column            Non-Null Count  Dtype  \n",
      "---  ------            --------------  -----  \n",
      " 0   Match ID          48 non-null     int64  \n",
      " 1   Match Date        48 non-null     object \n",
      " 2   Match Time        48 non-null     object \n",
      " 3   City              48 non-null     object \n",
      " 4   Stadium           48 non-null     object \n",
      " 5   Team A            48 non-null     object \n",
      " 6   Team B            48 non-null     object \n",
      " 7   Toss Winner       48 non-null     object \n",
      " 8   Toss Decision     48 non-null     object \n",
      " 9   Score A           48 non-null     int64  \n",
      " 10  Wickets A         48 non-null     int64  \n",
      " 11  Overs Played A    48 non-null     float64\n",
      " 12  Maiden Overs A    48 non-null     int64  \n",
      " 13  4s A              48 non-null     int64  \n",
      " 14  6s A              48 non-null     int64  \n",
      " 15  Boundaries A      48 non-null     int64  \n",
      " 16  Runrate A         48 non-null     float64\n",
      " 17  Leg Byes A        48 non-null     int64  \n",
      " 18  Byes A            48 non-null     int64  \n",
      " 19  Wides A           48 non-null     int64  \n",
      " 20  No Balls A        48 non-null     int64  \n",
      " 21  Penalty A         48 non-null     int64  \n",
      " 22  Extras A          48 non-null     int64  \n",
      " 23  Score B           48 non-null     int64  \n",
      " 24  Wickets B         48 non-null     int64  \n",
      " 25  Overs Played B    48 non-null     float64\n",
      " 26  Maiden Overs B    48 non-null     int64  \n",
      " 27  4s B              48 non-null     int64  \n",
      " 28  6s B              48 non-null     int64  \n",
      " 29  Boundaries B      48 non-null     int64  \n",
      " 30  Runrate B         47 non-null     float64\n",
      " 31  Leg Byes B        48 non-null     int64  \n",
      " 32  Byes B            48 non-null     int64  \n",
      " 33  Wides B           48 non-null     int64  \n",
      " 34  No Balls B        48 non-null     int64  \n",
      " 35  Penalty B         48 non-null     int64  \n",
      " 36  Extras B          48 non-null     int64  \n",
      " 37  Wining Team       48 non-null     object \n",
      " 38  Margin            48 non-null     object \n",
      " 39  Man of the Match  48 non-null     object \n",
      " 40  Umpire 1          48 non-null     object \n",
      " 41  Umpire 2          48 non-null     object \n",
      " 42  TV Umpire         48 non-null     object \n",
      " 43  Match Refree      48 non-null     object \n",
      "dtypes: float64(4), int64(25), object(15)\n",
      "memory usage: 16.6+ KB\n"
     ]
    }
   ],
   "source": [
    "cwc_df.info()"
   ]
  },
  {
   "cell_type": "code",
   "execution_count": 24,
   "id": "b50f03b7-40f6-4d13-a565-9c8a035ca932",
   "metadata": {},
   "outputs": [],
   "source": [
    "cwc_df['Max Run Rate'] = cwc_df[['Runrate A', 'Runrate B']].max(axis=1)"
   ]
  },
  {
   "cell_type": "code",
   "execution_count": 25,
   "id": "a7013dbc-9f55-4a21-ab8d-e83aaa015941",
   "metadata": {},
   "outputs": [
    {
     "data": {
      "image/png": "[encoded data removed]",
      "text/plain": [
       "<Figure size 640x480 with 1 Axes>"
      ]
     },
     "metadata": {},
     "output_type": "display_data"
    }
   ],
   "source": [
    "sns.stripplot(x= \"Wining Team\", y= \"Max Run Rate\" , data = cwc_df, jitter=True)\n",
    "plt.xticks(rotation=45)\n",
    "plt.title(\"Runrates od Winning Teams\")\n",
    "plt.show()"
   ]
  },
  {
   "cell_type": "code",
   "execution_count": null,
   "id": "7756f1c8-a1e0-476e-b3fe-652e4be2810e",
   "metadata": {},
   "outputs": [],
   "source": []
  }
 ],
 "metadata": {
  "kernelspec": {
   "display_name": "Python [conda env:base] *",
   "language": "python",
   "name": "conda-base-py"
  },
  "language_info": {
   "codemirror_mode": {
    "name": "ipython",
    "version": 3
   },
   "file_extension": ".py",
   "mimetype": "text/x-python",
   "name": "python",
   "nbconvert_exporter": "python",
   "pygments_lexer": "ipython3",
   "version": "3.13.5"
  }
 },
 "nbformat": 4,
 "nbformat_minor": 5
}
